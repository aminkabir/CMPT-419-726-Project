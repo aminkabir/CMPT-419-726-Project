{
 "cells": [
  {
   "cell_type": "code",
   "execution_count": 1,
   "metadata": {},
   "outputs": [],
   "source": [
    "import sys\n",
    "import os\n",
    "import tensorflow as tf\n",
    "from tensorflow.keras.preprocessing.image import ImageDataGenerator\n",
    "from tensorflow.keras import optimizers\n",
    "from tensorflow.keras.models import Sequential\n",
    "from tensorflow.keras.layers import Dropout, Flatten, Dense, Activation, Conv2D, MaxPool2D\n",
    "from tensorflow.keras import callbacks\n",
    "from tensorflow.keras.callbacks import EarlyStopping\n",
    "import time"
   ]
  },
  {
   "cell_type": "code",
   "execution_count": 2,
   "metadata": {},
   "outputs": [],
   "source": [
    "start = time.time()\n",
    "\n",
    "DEV = False\n",
    "argvs = sys.argv\n",
    "argc = len(argvs)\n",
    "\n",
    "if argc > 1 and (argvs[1] == \"--development\" or argvs[1] == \"-d\"):\n",
    "  DEV = True\n",
    "\n",
    "if DEV:\n",
    "  epochs = 2\n",
    "else:\n",
    "  epochs = 20\n",
    "\n",
    "train_data_path = 'dataset/train'\n",
    "validation_data_path = 'dataset/validation'"
   ]
  },
  {
   "cell_type": "code",
   "execution_count": 3,
   "metadata": {},
   "outputs": [],
   "source": [
    "\"\"\"\n",
    "Parameters\n",
    "\"\"\"\n",
    "img_width, img_height = 256, 256\n",
    "batch_size = 16\n",
    "samples_per_epoch = 1000\n",
    "validation_steps = 300\n",
    "nb_filters1 = 32\n",
    "nb_filters2 = 32\n",
    "nb_filters3 = 16\n",
    "nb_filters4 = 16\n",
    "nb_filters5 = 16\n",
    "conv1_size = 9\n",
    "conv2_size = 7\n",
    "conv3_size = 5\n",
    "conv4_size = 5\n",
    "conv5_size = 5\n",
    "pool_size = 2\n",
    "classes_num = 5\n",
    "lr = 0.001"
   ]
  },
  {
   "cell_type": "code",
   "execution_count": 10,
   "metadata": {},
   "outputs": [],
   "source": [
    "model = Sequential()"
   ]
  },
  {
   "cell_type": "code",
   "execution_count": 11,
   "metadata": {},
   "outputs": [],
   "source": [
    "model.add(Conv2D(filters=nb_filters1, kernel_size=(conv1_size,conv1_size), kernel_initializer='he_normal', input_shape=(img_width, img_height, 3), activation='relu'))\n",
    "model.add(MaxPool2D(pool_size=(pool_size, pool_size)))\n",
    "model.add(Dropout(0.2))\n",
    "\n",
    "model.add(Conv2D(filters=nb_filters2, kernel_size=(conv2_size,conv2_size), kernel_initializer='he_normal', activation='relu'))\n",
    "model.add(MaxPool2D(pool_size=(pool_size, pool_size)))\n",
    "model.add(Dropout(0.2))\n",
    "\n",
    "model.add(Conv2D(filters=nb_filters3, kernel_size=(conv3_size,conv3_size), kernel_initializer='he_normal', activation='relu'))\n",
    "model.add(MaxPool2D(pool_size=(pool_size, pool_size)))\n",
    "model.add(Dropout(0.2))\n",
    "\n",
    "model.add(Conv2D(filters=nb_filters4, kernel_size=(conv4_size,conv4_size), kernel_initializer='he_normal', activation='relu'))\n",
    "model.add(MaxPool2D(pool_size=(pool_size, pool_size)))\n",
    "model.add(Dropout(0.2))\n",
    "\n",
    "model.add(Conv2D(filters=nb_filters5, kernel_size=(conv5_size,conv5_size), kernel_initializer='he_normal', activation='relu'))\n",
    "model.add(Dropout(0.2))"
   ]
  },
  {
   "cell_type": "code",
   "execution_count": 12,
   "metadata": {},
   "outputs": [
    {
     "name": "stdout",
     "output_type": "stream",
     "text": [
      "Model: \"sequential_1\"\n",
      "_________________________________________________________________\n",
      "Layer (type)                 Output Shape              Param #   \n",
      "=================================================================\n",
      "conv2d_7 (Conv2D)            (None, 248, 248, 32)      7808      \n",
      "_________________________________________________________________\n",
      "max_pooling2d_4 (MaxPooling2 (None, 124, 124, 32)      0         \n",
      "_________________________________________________________________\n",
      "dropout_7 (Dropout)          (None, 124, 124, 32)      0         \n",
      "_________________________________________________________________\n",
      "conv2d_8 (Conv2D)            (None, 118, 118, 32)      50208     \n",
      "_________________________________________________________________\n",
      "max_pooling2d_5 (MaxPooling2 (None, 59, 59, 32)        0         \n",
      "_________________________________________________________________\n",
      "dropout_8 (Dropout)          (None, 59, 59, 32)        0         \n",
      "_________________________________________________________________\n",
      "conv2d_9 (Conv2D)            (None, 55, 55, 16)        12816     \n",
      "_________________________________________________________________\n",
      "max_pooling2d_6 (MaxPooling2 (None, 27, 27, 16)        0         \n",
      "_________________________________________________________________\n",
      "dropout_9 (Dropout)          (None, 27, 27, 16)        0         \n",
      "_________________________________________________________________\n",
      "conv2d_10 (Conv2D)           (None, 23, 23, 16)        6416      \n",
      "_________________________________________________________________\n",
      "max_pooling2d_7 (MaxPooling2 (None, 11, 11, 16)        0         \n",
      "_________________________________________________________________\n",
      "dropout_10 (Dropout)         (None, 11, 11, 16)        0         \n",
      "_________________________________________________________________\n",
      "conv2d_11 (Conv2D)           (None, 7, 7, 16)          6416      \n",
      "_________________________________________________________________\n",
      "dropout_11 (Dropout)         (None, 7, 7, 16)          0         \n",
      "_________________________________________________________________\n",
      "flatten_1 (Flatten)          (None, 784)               0         \n",
      "_________________________________________________________________\n",
      "dense_3 (Dense)              (None, 256)               200960    \n",
      "_________________________________________________________________\n",
      "dropout_12 (Dropout)         (None, 256)               0         \n",
      "_________________________________________________________________\n",
      "dense_4 (Dense)              (None, 256)               65792     \n",
      "_________________________________________________________________\n",
      "dropout_13 (Dropout)         (None, 256)               0         \n",
      "_________________________________________________________________\n",
      "dense_5 (Dense)              (None, 5)                 1285      \n",
      "=================================================================\n",
      "Total params: 351,701\n",
      "Trainable params: 351,701\n",
      "Non-trainable params: 0\n",
      "_________________________________________________________________\n"
     ]
    }
   ],
   "source": [
    "model.add(Flatten())\n",
    "model.add(Dense(256, activation='relu'))\n",
    "model.add(Dropout(0.4))\n",
    "model.add(Dense(256, activation='relu'))\n",
    "model.add(Dropout(0.4))\n",
    "model.add(Dense(classes_num, activation='softmax'))\n",
    "\n",
    "model.summary()"
   ]
  },
  {
   "cell_type": "code",
   "execution_count": 14,
   "metadata": {},
   "outputs": [
    {
     "name": "stdout",
     "output_type": "stream",
     "text": [
      "\n",
      "*** Weights Shape ***\t\n",
      "\n",
      "Layer 0 \t conv2d_7 \t\t (9, 9, 3, 32) \t (32,)\n",
      "Layer 3 \t conv2d_8 \t\t (7, 7, 32, 32) \t (32,)\n",
      "Layer 6 \t conv2d_9 \t\t (5, 5, 32, 16) \t (16,)\n",
      "Layer 9 \t conv2d_10 \t\t (5, 5, 16, 16) \t (16,)\n",
      "Layer 12 \t conv2d_11 \t\t (5, 5, 16, 16) \t (16,)\n",
      "Layer 15 \t dense_3 \t\t (784, 256) \t (256,)\n",
      "Layer 17 \t dense_4 \t\t (256, 256) \t (256,)\n",
      "Layer 19 \t dense_5 \t\t (256, 5) \t (5,)\n",
      "Found 200000 images belonging to 5 classes.\n",
      "Found 50000 images belonging to 5 classes.\n",
      "Epoch 1/20\n",
      "12500/12500 [==============================] - 887s 71ms/step - loss: 0.0703 - accuracy: 0.9798 - recall: 0.9771 - val_loss: 0.0310 - val_accuracy: 0.9900 - val_recall: 0.9862\n",
      "Epoch 2/20\n",
      "12500/12500 [==============================] - 902s 72ms/step - loss: 0.0636 - accuracy: 0.9825 - recall: 0.9799 - val_loss: 0.0457 - val_accuracy: 0.9865 - val_recall: 0.9781\n",
      "Epoch 3/20\n",
      "12500/12500 [==============================] - 913s 73ms/step - loss: 0.0652 - accuracy: 0.9827 - recall: 0.9803 - val_loss: 0.0316 - val_accuracy: 0.9900 - val_recall: 0.9850\n",
      "Execution Time: 1.1269991456800037 hours\n"
     ]
    }
   ],
   "source": [
    "print(\"\\n*** Weights Shape ***\t\\n\")\n",
    "for i, layer in enumerate(model.layers):\n",
    "    if len(layer.get_weights()) > 0:\n",
    "       W, b = layer.get_weights()\n",
    "       print(\"Layer\", i, \"\\t\", layer.name, \"\\t\\t\", W.shape, \"\\t\", b.shape)\n",
    "\n",
    "model.compile(loss='categorical_crossentropy',\n",
    "              optimizer=optimizers.Adam(lr=lr),\n",
    "              metrics=['accuracy', tf.keras.metrics.Recall()])\n",
    "\n",
    "train_datagen = ImageDataGenerator(rescale=1. / 255)\n",
    "\n",
    "test_datagen = ImageDataGenerator(rescale=1. / 255)\n",
    "\n",
    "\n",
    "train_generator = train_datagen.flow_from_directory(\n",
    "    train_data_path,\n",
    "    target_size=(img_height, img_width),\n",
    "    batch_size=batch_size,\n",
    "    class_mode='categorical')\n",
    "\n",
    "validation_generator = test_datagen.flow_from_directory(\n",
    "    validation_data_path,\n",
    "    target_size=(img_height, img_width),\n",
    "    batch_size=batch_size,\n",
    "    class_mode='categorical')\n",
    "\n",
    "early_stop = EarlyStopping(monitor='val_loss',patience=2)\n",
    "\n",
    "# \"\"\"\n",
    "# Tensorboard log\n",
    "# \"\"\"\n",
    "# log_dir = './tf-log/'\n",
    "# tb_cb = callbacks.TensorBoard(log_dir=log_dir, histogram_freq=0)\n",
    "# cbks = [tb_cb]\n",
    "\n",
    "model.fit_generator(\n",
    "    train_generator,\n",
    "    epochs=epochs,\n",
    "    validation_data=validation_generator,\n",
    "    callbacks=[early_stop],\n",
    "    validation_steps=validation_steps)\n",
    "\n",
    "target_dir = './models/'\n",
    "if not os.path.exists(target_dir):\n",
    "  os.mkdir(target_dir)\n",
    "model.save('./models/model.h5')\n",
    "model.save_weights('./models/weights.h5')\n",
    "\n",
    "#Calculate execution time\n",
    "end = time.time()\n",
    "dur = end-start\n",
    "\n",
    "if dur<60:\n",
    "    print(\"Execution Time:\",dur,\"seconds\")\n",
    "elif dur>60 and dur<3600:\n",
    "    dur=dur/60\n",
    "    print(\"Execution Time:\",dur,\"minutes\")\n",
    "else:\n",
    "    dur=dur/(60*60)\n",
    "    print(\"Execution Time:\",dur,\"hours\")"
   ]
  },
  {
   "cell_type": "code",
   "execution_count": null,
   "metadata": {},
   "outputs": [],
   "source": [
    "print(\"Num GPUs Available: \", len(tf.config.experimental.list_physical_devices('GPU')))"
   ]
  },
  {
   "cell_type": "code",
   "execution_count": 3,
   "metadata": {},
   "outputs": [
    {
     "name": "stdout",
     "output_type": "stream",
     "text": [
      "2.0.0\n"
     ]
    }
   ],
   "source": [
    "print(tf.__version__)"
   ]
  },
  {
   "cell_type": "code",
   "execution_count": 19,
   "metadata": {},
   "outputs": [],
   "source": [
    "import pandas as pd\n",
    "import numpy as np\n",
    "from scipy.io import loadmat\n",
    "import matplotlib.pyplot as plt\n",
    "losses = pd.DataFrame(model.history.history)"
   ]
  },
  {
   "cell_type": "code",
   "execution_count": 20,
   "metadata": {},
   "outputs": [
    {
     "data": {
      "text/plain": [
       "[<matplotlib.lines.Line2D at 0x1ff14d3ba48>,\n",
       " <matplotlib.lines.Line2D at 0x1ff14d915c8>]"
      ]
     },
     "execution_count": 20,
     "metadata": {},
     "output_type": "execute_result"
    },
    {
     "data": {
      "image/png": "[encoded data removed]",
      "text/plain": [
       "<Figure size 864x576 with 1 Axes>"
      ]
     },
     "metadata": {
      "needs_background": "light"
     },
     "output_type": "display_data"
    }
   ],
   "source": [
    "plt.figure(figsize=(12, 8))\n",
    "plt.plot(losses[['accuracy','val_accuracy']])"
   ]
  },
  {
   "cell_type": "code",
   "execution_count": 21,
   "metadata": {},
   "outputs": [
    {
     "data": {
      "text/html": [
       "<div>\n",
       "<style scoped>\n",
       "    .dataframe tbody tr th:only-of-type {\n",
       "        vertical-align: middle;\n",
       "    }\n",
       "\n",
       "    .dataframe tbody tr th {\n",
       "        vertical-align: top;\n",
       "    }\n",
       "\n",
       "    .dataframe thead th {\n",
       "        text-align: right;\n",
       "    }\n",
       "</style>\n",
       "<table border=\"1\" class=\"dataframe\">\n",
       "  <thead>\n",
       "    <tr style=\"text-align: right;\">\n",
       "      <th></th>\n",
       "      <th>loss</th>\n",
       "      <th>accuracy</th>\n",
       "      <th>recall</th>\n",
       "      <th>val_loss</th>\n",
       "      <th>val_accuracy</th>\n",
       "      <th>val_recall</th>\n",
       "    </tr>\n",
       "  </thead>\n",
       "  <tbody>\n",
       "    <tr>\n",
       "      <th>0</th>\n",
       "      <td>0.070314</td>\n",
       "      <td>0.979795</td>\n",
       "      <td>0.97712</td>\n",
       "      <td>0.031000</td>\n",
       "      <td>0.990000</td>\n",
       "      <td>0.986250</td>\n",
       "    </tr>\n",
       "    <tr>\n",
       "      <th>1</th>\n",
       "      <td>0.063552</td>\n",
       "      <td>0.982515</td>\n",
       "      <td>0.97986</td>\n",
       "      <td>0.045676</td>\n",
       "      <td>0.986458</td>\n",
       "      <td>0.978125</td>\n",
       "    </tr>\n",
       "    <tr>\n",
       "      <th>2</th>\n",
       "      <td>0.065238</td>\n",
       "      <td>0.982705</td>\n",
       "      <td>0.98031</td>\n",
       "      <td>0.031560</td>\n",
       "      <td>0.990000</td>\n",
       "      <td>0.985000</td>\n",
       "    </tr>\n",
       "  </tbody>\n",
       "</table>\n",
       "</div>"
      ],
      "text/plain": [
       "       loss  accuracy   recall  val_loss  val_accuracy  val_recall\n",
       "0  0.070314  0.979795  0.97712  0.031000      0.990000    0.986250\n",
       "1  0.063552  0.982515  0.97986  0.045676      0.986458    0.978125\n",
       "2  0.065238  0.982705  0.98031  0.031560      0.990000    0.985000"
      ]
     },
     "execution_count": 21,
     "metadata": {},
     "output_type": "execute_result"
    }
   ],
   "source": [
    "losses"
   ]
  },
  {
   "cell_type": "code",
   "execution_count": 25,
   "metadata": {},
   "outputs": [
    {
     "data": {
      "text/plain": [
       "[<matplotlib.lines.Line2D at 0x1ff14fb5508>,\n",
       " <matplotlib.lines.Line2D at 0x1ff151b7708>]"
      ]
     },
     "execution_count": 25,
     "metadata": {},
     "output_type": "execute_result"
    },
    {
     "data": {
      "image/png": "[encoded data removed]",
      "text/plain": [
       "<Figure size 864x576 with 1 Axes>"
      ]
     },
     "metadata": {
      "needs_background": "light"
     },
     "output_type": "display_data"
    }
   ],
   "source": [
    "plt.figure(figsize=(12, 8))\n",
    "plt.plot(losses[['recall', 'val_recall']])"
   ]
  },
  {
   "cell_type": "code",
   "execution_count": null,
   "metadata": {},
   "outputs": [],
   "source": []
  }
 ],
 "metadata": {
  "kernelspec": {
   "display_name": "Python 3.7 (tensorflow)",
   "language": "python",
   "name": "tensorflow"
  },
  "language_info": {
   "codemirror_mode": {
    "name": "ipython",
    "version": 3
   },
   "file_extension": ".py",
   "mimetype": "text/x-python",
   "name": "python",
   "nbconvert_exporter": "python",
   "pygments_lexer": "ipython3",
   "version": "3.7.7"
  }
 },
 "nbformat": 4,
 "nbformat_minor": 4
}
