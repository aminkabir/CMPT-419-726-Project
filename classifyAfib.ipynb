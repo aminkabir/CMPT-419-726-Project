{
 "cells": [
  {
   "cell_type": "code",
   "execution_count": 2,
   "metadata": {},
   "outputs": [],
   "source": [
    "import pandas as pd\n",
    "import numpy as np\n",
    "from scipy.io import loadmat\n",
    "import matplotlib.pyplot as plt\n",
    "import tensorflow as tf\n",
    "from sklearn.model_selection import train_test_split\n",
    "from tensorflow.keras.models import Sequential\n",
    "from tensorflow.keras.layers import Dense, Conv2D, MaxPool2D, Flatten\n",
    "from tensorflow.keras.callbacks import EarlyStopping\n",
    "\n",
    "\n",
    "mat = loadmat('image_afib.mat')\n",
    "matNormal = loadmat('image_normal2')"
   ]
  },
  {
   "cell_type": "code",
   "execution_count": 3,
   "metadata": {},
   "outputs": [],
   "source": [
    "#mat"
   ]
  },
  {
   "cell_type": "code",
   "execution_count": 4,
   "metadata": {},
   "outputs": [],
   "source": [
    "matData = mat['image_afib']\n",
    "matDataNormal = matNormal['image_normal2']"
   ]
  },
  {
   "cell_type": "code",
   "execution_count": 5,
   "metadata": {},
   "outputs": [
    {
     "data": {
      "image/png": "[encoded data removed]",
      "text/plain": [
       "<Figure size 432x288 with 1 Axes>"
      ]
     },
     "metadata": {
      "needs_background": "light"
     },
     "output_type": "display_data"
    }
   ],
   "source": [
    "plt.imshow(matDataNormal[:,:,0])\n",
    "matDataReshapedNormal = np.swapaxes(matDataNormal,1,2)\n",
    "matDataReshapedNormal = np.swapaxes(matDataReshapedNormal,0,1)"
   ]
  },
  {
   "cell_type": "code",
   "execution_count": 6,
   "metadata": {},
   "outputs": [
    {
     "data": {
      "text/plain": [
       "<matplotlib.image.AxesImage at 0x25e0b0b7148>"
      ]
     },
     "execution_count": 6,
     "metadata": {},
     "output_type": "execute_result"
    },
    {
     "data": {
      "image/png": "[encoded data removed]",
      "text/plain": [
       "<Figure size 432x288 with 1 Axes>"
      ]
     },
     "metadata": {
      "needs_background": "light"
     },
     "output_type": "display_data"
    }
   ],
   "source": [
    "plt.imshow(matData[:,:,0])"
   ]
  },
  {
   "cell_type": "code",
   "execution_count": 7,
   "metadata": {},
   "outputs": [],
   "source": [
    "matDataReshaped = np.swapaxes(matData,1,2)\n",
    "matDataReshaped = np.swapaxes(matDataReshaped,0,1)"
   ]
  },
  {
   "cell_type": "code",
   "execution_count": 8,
   "metadata": {},
   "outputs": [
    {
     "data": {
      "text/plain": [
       "<matplotlib.image.AxesImage at 0x25e0b12ee48>"
      ]
     },
     "execution_count": 8,
     "metadata": {},
     "output_type": "execute_result"
    },
    {
     "data": {
      "image/png": "[encoded data removed]",
      "text/plain": [
       "<Figure size 432x288 with 1 Axes>"
      ]
     },
     "metadata": {
      "needs_background": "light"
     },
     "output_type": "display_data"
    }
   ],
   "source": [
    "plt.imshow(matDataReshaped[0,:,:])"
   ]
  },
  {
   "cell_type": "code",
   "execution_count": 9,
   "metadata": {},
   "outputs": [
    {
     "data": {
      "text/plain": [
       "(195, 30, 30)"
      ]
     },
     "execution_count": 9,
     "metadata": {},
     "output_type": "execute_result"
    }
   ],
   "source": [
    "matDataReshaped.shape"
   ]
  },
  {
   "cell_type": "code",
   "execution_count": 10,
   "metadata": {},
   "outputs": [
    {
     "data": {
      "text/plain": [
       "numpy.ndarray"
      ]
     },
     "execution_count": 10,
     "metadata": {},
     "output_type": "execute_result"
    }
   ],
   "source": [
    "type(matData)"
   ]
  },
  {
   "cell_type": "code",
   "execution_count": 11,
   "metadata": {},
   "outputs": [
    {
     "data": {
      "text/plain": [
       "<matplotlib.image.AxesImage at 0x25e0b18d3c8>"
      ]
     },
     "execution_count": 11,
     "metadata": {},
     "output_type": "execute_result"
    },
    {
     "data": {
      "image/png": "[encoded data removed]",
      "text/plain": [
       "<Figure size 432x288 with 1 Axes>"
      ]
     },
     "metadata": {
      "needs_background": "light"
     },
     "output_type": "display_data"
    }
   ],
   "source": [
    "plt.imshow(matData[:,:,1])"
   ]
  },
  {
   "cell_type": "code",
   "execution_count": 12,
   "metadata": {},
   "outputs": [
    {
     "data": {
      "text/plain": [
       "<matplotlib.image.AxesImage at 0x25e0b1f7c48>"
      ]
     },
     "execution_count": 12,
     "metadata": {},
     "output_type": "execute_result"
    },
    {
     "data": {
      "image/png": "[encoded data removed]",
      "text/plain": [
       "<Figure size 432x288 with 1 Axes>"
      ]
     },
     "metadata": {
      "needs_background": "light"
     },
     "output_type": "display_data"
    }
   ],
   "source": [
    "plt.imshow(matDataReshaped[1])"
   ]
  },
  {
   "cell_type": "code",
   "execution_count": 13,
   "metadata": {},
   "outputs": [
    {
     "data": {
      "text/plain": [
       "<matplotlib.image.AxesImage at 0x25e0b25d748>"
      ]
     },
     "execution_count": 13,
     "metadata": {},
     "output_type": "execute_result"
    },
    {
     "data": {
      "image/png": "[encoded data removed]",
      "text/plain": [
       "<Figure size 432x288 with 1 Axes>"
      ]
     },
     "metadata": {
      "needs_background": "light"
     },
     "output_type": "display_data"
    }
   ],
   "source": [
    "plt.imshow(matDataReshapedNormal[0])"
   ]
  },
  {
   "cell_type": "code",
   "execution_count": 14,
   "metadata": {},
   "outputs": [],
   "source": [
    "heartData = np.concatenate((matDataReshaped, matDataReshapedNormal), axis=0)"
   ]
  },
  {
   "cell_type": "code",
   "execution_count": 15,
   "metadata": {},
   "outputs": [
    {
     "data": {
      "text/plain": [
       "<matplotlib.image.AxesImage at 0x25e0b2c3208>"
      ]
     },
     "execution_count": 15,
     "metadata": {},
     "output_type": "execute_result"
    },
    {
     "data": {
      "image/png": "[encoded data removed]",
      "text/plain": [
       "<Figure size 432x288 with 1 Axes>"
      ]
     },
     "metadata": {
      "needs_background": "light"
     },
     "output_type": "display_data"
    }
   ],
   "source": [
    "plt.imshow(heartData[195])"
   ]
  },
  {
   "cell_type": "code",
   "execution_count": 16,
   "metadata": {},
   "outputs": [],
   "source": [
    "yTrue = np.ones((matDataReshaped.shape[0]), dtype=int)"
   ]
  },
  {
   "cell_type": "code",
   "execution_count": 17,
   "metadata": {},
   "outputs": [],
   "source": [
    "yFalse = np.zeros((matDataReshapedNormal.shape[0]), dtype=int)"
   ]
  },
  {
   "cell_type": "code",
   "execution_count": 18,
   "metadata": {},
   "outputs": [],
   "source": [
    "y = np.concatenate((yTrue,yFalse), axis=0)"
   ]
  },
  {
   "cell_type": "code",
   "execution_count": 19,
   "metadata": {},
   "outputs": [],
   "source": [
    "X_train, X_test, y_train, y_test = train_test_split(heartData, y, test_size=0.25, random_state=101)"
   ]
  },
  {
   "cell_type": "code",
   "execution_count": 20,
   "metadata": {},
   "outputs": [
    {
     "data": {
      "text/plain": [
       "<matplotlib.image.AxesImage at 0x25e0b326f48>"
      ]
     },
     "execution_count": 20,
     "metadata": {},
     "output_type": "execute_result"
    },
    {
     "data": {
      "image/png": "[encoded data removed]",
      "text/plain": [
       "<Figure size 432x288 with 1 Axes>"
      ]
     },
     "metadata": {
      "needs_background": "light"
     },
     "output_type": "display_data"
    }
   ],
   "source": [
    "plt.imshow(X_train[5])"
   ]
  },
  {
   "cell_type": "code",
   "execution_count": 26,
   "metadata": {},
   "outputs": [
    {
     "data": {
      "text/plain": [
       "array([1, 0, 1, 1, 1, 0, 1, 0, 1, 0, 1, 0, 0, 1, 0, 1, 1, 1, 0, 0, 1, 1,\n",
       "       1, 0, 1, 0, 1, 0, 0, 0, 1, 1, 0, 1, 1, 1, 0, 1, 0, 0, 1, 0, 0, 0,\n",
       "       1, 0, 1, 0, 1, 0, 1, 0, 0, 0, 1, 0, 0, 1, 1, 1, 0, 0, 0, 1, 0, 1,\n",
       "       0, 1, 0, 0, 0, 0, 0, 0, 1, 1, 0, 1, 0, 1, 1, 0, 1, 0, 1, 0, 1, 0,\n",
       "       1, 1, 1, 0, 1, 0, 0, 1, 1, 0, 1, 0, 0, 0, 0, 1, 0, 0, 0, 0, 1, 0,\n",
       "       0, 0, 1, 0, 0, 0, 0, 1, 0, 0, 1, 1, 1, 1, 1, 1, 1, 0, 1, 1, 0, 1,\n",
       "       0, 1, 1, 1, 0, 0, 1, 1, 1, 0, 1, 0, 1, 0, 0, 1, 1, 0, 0, 0, 0, 1,\n",
       "       0, 1, 1, 1, 0, 1, 1, 0, 0, 0, 1, 1, 0, 1, 1, 1, 1, 0, 1, 0, 1, 1,\n",
       "       0, 0, 1, 0, 1, 0, 1, 1, 0, 1, 1, 0, 0, 0, 1, 0, 0, 1, 0, 0, 1, 1,\n",
       "       1, 0, 0, 1, 1, 0, 0, 1, 0, 1, 0, 0, 0, 1, 0, 0, 0, 1, 0, 1, 1, 1,\n",
       "       1, 0, 1, 1, 1, 0, 0, 1, 1, 0, 0, 0, 0, 1, 1, 0, 1, 0, 1, 0, 0, 0,\n",
       "       1, 1, 1, 0, 0, 0, 0, 0, 0, 1, 1, 0, 0, 1, 1, 1, 0, 0, 1, 0, 1, 0,\n",
       "       1, 1, 0, 0, 0, 1, 1, 1, 1, 0, 1, 0, 1, 1, 1, 0, 0, 0, 0, 1, 1, 1,\n",
       "       1, 1, 0, 0, 1, 0])"
      ]
     },
     "execution_count": 26,
     "metadata": {},
     "output_type": "execute_result"
    }
   ],
   "source": [
    "y_train"
   ]
  },
  {
   "cell_type": "code",
   "execution_count": 27,
   "metadata": {},
   "outputs": [],
   "source": [
    "model = Sequential()\n",
    "\n",
    "# Convolutional Layer\n",
    "model.add(Conv2D(filters=32, kernel_size=(4,4),input_shape=(30, 30, 1), activation='relu',))\n",
    "\n",
    "# Pooling Layer\n",
    "model.add(MaxPool2D(pool_size=(2, 2)))\n",
    "\n",
    "model.add(Flatten())\n",
    "\n",
    "# 128 Neuron Fully Connected Layer\n",
    "model.add(Dense(128, activation='relu'))\n",
    "\n",
    "# Binary Output\n",
    "model.add(Dense(1, activation='sigmoid'))\n",
    "\n",
    "model.compile(loss='binary_crossentropy',\n",
    "              optimizer='adam',\n",
    "              metrics=['accuracy', tf.keras.metrics.Recall()])"
   ]
  },
  {
   "cell_type": "code",
   "execution_count": 28,
   "metadata": {},
   "outputs": [
    {
     "data": {
      "text/plain": [
       "(292, 30, 30)"
      ]
     },
     "execution_count": 28,
     "metadata": {},
     "output_type": "execute_result"
    }
   ],
   "source": [
    "X_train.shape"
   ]
  },
  {
   "cell_type": "code",
   "execution_count": 29,
   "metadata": {},
   "outputs": [],
   "source": [
    "X_train = X_train.reshape(292, 30, 30, 1)"
   ]
  },
  {
   "cell_type": "code",
   "execution_count": 30,
   "metadata": {},
   "outputs": [
    {
     "data": {
      "text/plain": [
       "(98, 30, 30)"
      ]
     },
     "execution_count": 30,
     "metadata": {},
     "output_type": "execute_result"
    }
   ],
   "source": [
    "X_test.shape"
   ]
  },
  {
   "cell_type": "code",
   "execution_count": 31,
   "metadata": {},
   "outputs": [],
   "source": [
    "X_test = X_test.reshape(98, 30, 30, 1)"
   ]
  },
  {
   "cell_type": "code",
   "execution_count": 32,
   "metadata": {},
   "outputs": [
    {
     "data": {
      "text/plain": [
       "(98, 30, 30, 1)"
      ]
     },
     "execution_count": 32,
     "metadata": {},
     "output_type": "execute_result"
    }
   ],
   "source": [
    "X_test.shape"
   ]
  },
  {
   "cell_type": "code",
   "execution_count": 33,
   "metadata": {},
   "outputs": [],
   "source": [
    "from tensorflow.keras.callbacks import EarlyStopping"
   ]
  },
  {
   "cell_type": "code",
   "execution_count": 34,
   "metadata": {},
   "outputs": [],
   "source": [
    "early_stop = EarlyStopping(monitor='val_loss',patience=2)"
   ]
  },
  {
   "cell_type": "code",
   "execution_count": 35,
   "metadata": {},
   "outputs": [
    {
     "name": "stdout",
     "output_type": "stream",
     "text": [
      "Train on 292 samples, validate on 98 samples\n",
      "Epoch 1/100\n",
      "292/292 [==============================] - 1s 2ms/sample - loss: 0.3319 - accuracy: 0.9007 - recall: 0.9583 - val_loss: 0.1203 - val_accuracy: 0.9694 - val_recall: 1.0000\n",
      "Epoch 2/100\n",
      "292/292 [==============================] - 0s 298us/sample - loss: 0.0769 - accuracy: 0.9795 - recall: 0.9792 - val_loss: 0.0624 - val_accuracy: 0.9694 - val_recall: 1.0000\n",
      "Epoch 3/100\n",
      "292/292 [==============================] - 0s 298us/sample - loss: 0.0278 - accuracy: 0.9932 - recall: 0.9931 - val_loss: 0.0351 - val_accuracy: 1.0000 - val_recall: 1.0000\n",
      "Epoch 4/100\n",
      "292/292 [==============================] - 0s 305us/sample - loss: 0.0136 - accuracy: 1.0000 - recall: 1.0000 - val_loss: 0.0207 - val_accuracy: 1.0000 - val_recall: 1.0000\n",
      "Epoch 5/100\n",
      "292/292 [==============================] - 0s 308us/sample - loss: 0.0074 - accuracy: 1.0000 - recall: 1.0000 - val_loss: 0.0158 - val_accuracy: 1.0000 - val_recall: 1.0000\n",
      "Epoch 6/100\n",
      "292/292 [==============================] - 0s 301us/sample - loss: 0.0049 - accuracy: 1.0000 - recall: 1.0000 - val_loss: 0.0108 - val_accuracy: 1.0000 - val_recall: 1.0000\n",
      "Epoch 7/100\n",
      "292/292 [==============================] - 0s 305us/sample - loss: 0.0034 - accuracy: 1.0000 - recall: 1.0000 - val_loss: 0.0100 - val_accuracy: 1.0000 - val_recall: 1.0000\n",
      "Epoch 8/100\n",
      "292/292 [==============================] - 0s 298us/sample - loss: 0.0026 - accuracy: 1.0000 - recall: 1.0000 - val_loss: 0.0091 - val_accuracy: 1.0000 - val_recall: 1.0000\n",
      "Epoch 9/100\n",
      "292/292 [==============================] - 0s 305us/sample - loss: 0.0021 - accuracy: 1.0000 - recall: 1.0000 - val_loss: 0.0083 - val_accuracy: 1.0000 - val_recall: 1.0000\n",
      "Epoch 10/100\n",
      "292/292 [==============================] - 0s 301us/sample - loss: 0.0017 - accuracy: 1.0000 - recall: 1.0000 - val_loss: 0.0071 - val_accuracy: 1.0000 - val_recall: 1.0000\n",
      "Epoch 11/100\n",
      "292/292 [==============================] - 0s 308us/sample - loss: 0.0015 - accuracy: 1.0000 - recall: 1.0000 - val_loss: 0.0062 - val_accuracy: 1.0000 - val_recall: 1.0000\n",
      "Epoch 12/100\n",
      "292/292 [==============================] - 0s 308us/sample - loss: 0.0012 - accuracy: 1.0000 - recall: 1.0000 - val_loss: 0.0064 - val_accuracy: 1.0000 - val_recall: 1.0000\n",
      "Epoch 13/100\n",
      "292/292 [==============================] - 0s 308us/sample - loss: 0.0011 - accuracy: 1.0000 - recall: 1.0000 - val_loss: 0.0058 - val_accuracy: 1.0000 - val_recall: 1.0000\n",
      "Epoch 14/100\n",
      "292/292 [==============================] - 0s 308us/sample - loss: 9.4804e-04 - accuracy: 1.0000 - recall: 1.0000 - val_loss: 0.0056 - val_accuracy: 1.0000 - val_recall: 1.0000\n",
      "Epoch 15/100\n",
      "292/292 [==============================] - 0s 319us/sample - loss: 8.5381e-04 - accuracy: 1.0000 - recall: 1.0000 - val_loss: 0.0054 - val_accuracy: 1.0000 - val_recall: 1.0000\n",
      "Epoch 16/100\n",
      "292/292 [==============================] - 0s 315us/sample - loss: 7.3916e-04 - accuracy: 1.0000 - recall: 1.0000 - val_loss: 0.0048 - val_accuracy: 1.0000 - val_recall: 1.0000\n",
      "Epoch 17/100\n",
      "292/292 [==============================] - 0s 308us/sample - loss: 6.7992e-04 - accuracy: 1.0000 - recall: 1.0000 - val_loss: 0.0046 - val_accuracy: 1.0000 - val_recall: 1.0000\n",
      "Epoch 18/100\n",
      "292/292 [==============================] - 0s 301us/sample - loss: 6.0838e-04 - accuracy: 1.0000 - recall: 1.0000 - val_loss: 0.0045 - val_accuracy: 1.0000 - val_recall: 1.0000\n",
      "Epoch 19/100\n",
      "292/292 [==============================] - 0s 319us/sample - loss: 5.5115e-04 - accuracy: 1.0000 - recall: 1.0000 - val_loss: 0.0042 - val_accuracy: 1.0000 - val_recall: 1.0000\n",
      "Epoch 20/100\n",
      "292/292 [==============================] - 0s 322us/sample - loss: 5.0620e-04 - accuracy: 1.0000 - recall: 1.0000 - val_loss: 0.0039 - val_accuracy: 1.0000 - val_recall: 1.0000\n",
      "Epoch 21/100\n",
      "292/292 [==============================] - 0s 312us/sample - loss: 4.6900e-04 - accuracy: 1.0000 - recall: 1.0000 - val_loss: 0.0040 - val_accuracy: 1.0000 - val_recall: 1.0000\n",
      "Epoch 22/100\n",
      "292/292 [==============================] - 0s 305us/sample - loss: 4.2325e-04 - accuracy: 1.0000 - recall: 1.0000 - val_loss: 0.0038 - val_accuracy: 1.0000 - val_recall: 1.0000\n",
      "Epoch 23/100\n",
      "292/292 [==============================] - 0s 308us/sample - loss: 3.8696e-04 - accuracy: 1.0000 - recall: 1.0000 - val_loss: 0.0035 - val_accuracy: 1.0000 - val_recall: 1.0000\n",
      "Epoch 24/100\n",
      "292/292 [==============================] - 0s 322us/sample - loss: 3.5991e-04 - accuracy: 1.0000 - recall: 1.0000 - val_loss: 0.0033 - val_accuracy: 1.0000 - val_recall: 1.0000\n",
      "Epoch 25/100\n",
      "292/292 [==============================] - 0s 315us/sample - loss: 3.2893e-04 - accuracy: 1.0000 - recall: 1.0000 - val_loss: 0.0033 - val_accuracy: 1.0000 - val_recall: 1.0000\n",
      "Epoch 26/100\n",
      "292/292 [==============================] - 0s 315us/sample - loss: 3.1453e-04 - accuracy: 1.0000 - recall: 1.0000 - val_loss: 0.0031 - val_accuracy: 1.0000 - val_recall: 1.0000\n",
      "Epoch 27/100\n",
      "292/292 [==============================] - 0s 305us/sample - loss: 2.8642e-04 - accuracy: 1.0000 - recall: 1.0000 - val_loss: 0.0031 - val_accuracy: 1.0000 - val_recall: 1.0000\n",
      "Epoch 28/100\n",
      "292/292 [==============================] - 0s 322us/sample - loss: 2.7183e-04 - accuracy: 1.0000 - recall: 1.0000 - val_loss: 0.0031 - val_accuracy: 1.0000 - val_recall: 1.0000\n",
      "Epoch 29/100\n",
      "292/292 [==============================] - 0s 305us/sample - loss: 2.4883e-04 - accuracy: 1.0000 - recall: 1.0000 - val_loss: 0.0029 - val_accuracy: 1.0000 - val_recall: 1.0000\n",
      "Epoch 30/100\n",
      "292/292 [==============================] - 0s 305us/sample - loss: 2.3533e-04 - accuracy: 1.0000 - recall: 1.0000 - val_loss: 0.0027 - val_accuracy: 1.0000 - val_recall: 1.0000\n",
      "Epoch 31/100\n",
      "292/292 [==============================] - 0s 312us/sample - loss: 2.2155e-04 - accuracy: 1.0000 - recall: 1.0000 - val_loss: 0.0022 - val_accuracy: 1.0000 - val_recall: 1.0000\n",
      "Epoch 32/100\n",
      "292/292 [==============================] - 0s 315us/sample - loss: 2.1404e-04 - accuracy: 1.0000 - recall: 1.0000 - val_loss: 0.0023 - val_accuracy: 1.0000 - val_recall: 1.0000\n",
      "Epoch 33/100\n",
      "292/292 [==============================] - 0s 312us/sample - loss: 1.9422e-04 - accuracy: 1.0000 - recall: 1.0000 - val_loss: 0.0023 - val_accuracy: 1.0000 - val_recall: 1.0000\n"
     ]
    },
    {
     "data": {
      "text/plain": [
       "<tensorflow.python.keras.callbacks.History at 0x25e0b79eb88>"
      ]
     },
     "execution_count": 35,
     "metadata": {},
     "output_type": "execute_result"
    }
   ],
   "source": [
    "model.fit(X_train,y_train,epochs=100,validation_data=(X_test,y_test),callbacks=[early_stop])"
   ]
  },
  {
   "cell_type": "code",
   "execution_count": 36,
   "metadata": {},
   "outputs": [],
   "source": [
    "losses = pd.DataFrame(model.history.history)"
   ]
  },
  {
   "cell_type": "code",
   "execution_count": 37,
   "metadata": {},
   "outputs": [
    {
     "data": {
      "text/html": [
       "<div>\n",
       "<style scoped>\n",
       "    .dataframe tbody tr th:only-of-type {\n",
       "        vertical-align: middle;\n",
       "    }\n",
       "\n",
       "    .dataframe tbody tr th {\n",
       "        vertical-align: top;\n",
       "    }\n",
       "\n",
       "    .dataframe thead th {\n",
       "        text-align: right;\n",
       "    }\n",
       "</style>\n",
       "<table border=\"1\" class=\"dataframe\">\n",
       "  <thead>\n",
       "    <tr style=\"text-align: right;\">\n",
       "      <th></th>\n",
       "      <th>loss</th>\n",
       "      <th>accuracy</th>\n",
       "      <th>recall</th>\n",
       "      <th>val_loss</th>\n",
       "      <th>val_accuracy</th>\n",
       "      <th>val_recall</th>\n",
       "    </tr>\n",
       "  </thead>\n",
       "  <tbody>\n",
       "    <tr>\n",
       "      <th>0</th>\n",
       "      <td>0.331934</td>\n",
       "      <td>0.900685</td>\n",
       "      <td>0.958333</td>\n",
       "      <td>0.120268</td>\n",
       "      <td>0.969388</td>\n",
       "      <td>1.0</td>\n",
       "    </tr>\n",
       "    <tr>\n",
       "      <th>1</th>\n",
       "      <td>0.076904</td>\n",
       "      <td>0.979452</td>\n",
       "      <td>0.979167</td>\n",
       "      <td>0.062398</td>\n",
       "      <td>0.969388</td>\n",
       "      <td>1.0</td>\n",
       "    </tr>\n",
       "    <tr>\n",
       "      <th>2</th>\n",
       "      <td>0.027804</td>\n",
       "      <td>0.993151</td>\n",
       "      <td>0.993056</td>\n",
       "      <td>0.035130</td>\n",
       "      <td>1.000000</td>\n",
       "      <td>1.0</td>\n",
       "    </tr>\n",
       "    <tr>\n",
       "      <th>3</th>\n",
       "      <td>0.013586</td>\n",
       "      <td>1.000000</td>\n",
       "      <td>1.000000</td>\n",
       "      <td>0.020684</td>\n",
       "      <td>1.000000</td>\n",
       "      <td>1.0</td>\n",
       "    </tr>\n",
       "    <tr>\n",
       "      <th>4</th>\n",
       "      <td>0.007357</td>\n",
       "      <td>1.000000</td>\n",
       "      <td>1.000000</td>\n",
       "      <td>0.015806</td>\n",
       "      <td>1.000000</td>\n",
       "      <td>1.0</td>\n",
       "    </tr>\n",
       "  </tbody>\n",
       "</table>\n",
       "</div>"
      ],
      "text/plain": [
       "       loss  accuracy    recall  val_loss  val_accuracy  val_recall\n",
       "0  0.331934  0.900685  0.958333  0.120268      0.969388         1.0\n",
       "1  0.076904  0.979452  0.979167  0.062398      0.969388         1.0\n",
       "2  0.027804  0.993151  0.993056  0.035130      1.000000         1.0\n",
       "3  0.013586  1.000000  1.000000  0.020684      1.000000         1.0\n",
       "4  0.007357  1.000000  1.000000  0.015806      1.000000         1.0"
      ]
     },
     "execution_count": 37,
     "metadata": {},
     "output_type": "execute_result"
    }
   ],
   "source": [
    "losses.head()"
   ]
  },
  {
   "cell_type": "code",
   "execution_count": 38,
   "metadata": {
    "scrolled": true
   },
   "outputs": [
    {
     "data": {
      "text/plain": [
       "<matplotlib.axes._subplots.AxesSubplot at 0x25e0bd6c188>"
      ]
     },
     "execution_count": 38,
     "metadata": {},
     "output_type": "execute_result"
    },
    {
     "data": {
      "image/png": "[encoded data removed]",
      "text/plain": [
       "<Figure size 432x288 with 1 Axes>"
      ]
     },
     "metadata": {
      "needs_background": "light"
     },
     "output_type": "display_data"
    }
   ],
   "source": [
    "losses[['accuracy','val_accuracy']].plot()"
   ]
  },
  {
   "cell_type": "code",
   "execution_count": 39,
   "metadata": {},
   "outputs": [
    {
     "data": {
      "text/plain": [
       "pandas.core.frame.DataFrame"
      ]
     },
     "execution_count": 39,
     "metadata": {},
     "output_type": "execute_result"
    }
   ],
   "source": [
    "type(losses)"
   ]
  },
  {
   "cell_type": "code",
   "execution_count": 45,
   "metadata": {},
   "outputs": [
    {
     "data": {
      "text/plain": [
       "[<matplotlib.lines.Line2D at 0x25e0d980d08>,\n",
       " <matplotlib.lines.Line2D at 0x25e0d9be648>]"
      ]
     },
     "execution_count": 45,
     "metadata": {},
     "output_type": "execute_result"
    },
    {
     "data": {
      "image/png": "[encoded data removed]",
      "text/plain": [
       "<Figure size 864x576 with 1 Axes>"
      ]
     },
     "metadata": {
      "needs_background": "light"
     },
     "output_type": "display_data"
    }
   ],
   "source": [
    "plt.figure(figsize=(12, 8))\n",
    "plt.plot(losses[['accuracy','val_accuracy']])"
   ]
  },
  {
   "cell_type": "code",
   "execution_count": 58,
   "metadata": {},
   "outputs": [
    {
     "data": {
      "text/plain": [
       "[<matplotlib.lines.Line2D at 0x1758fc2e9c8>,\n",
       " <matplotlib.lines.Line2D at 0x1758fc2ebc8>]"
      ]
     },
     "execution_count": 58,
     "metadata": {},
     "output_type": "execute_result"
    },
    {
     "data": {
      "image/png": "[encoded data removed]",
      "text/plain": [
       "<Figure size 864x576 with 1 Axes>"
      ]
     },
     "metadata": {
      "needs_background": "light"
     },
     "output_type": "display_data"
    }
   ],
   "source": [
    "plt.figure(figsize=(12, 8))\n",
    "plt.plot(losses[['recall','val_recall']])"
   ]
  },
  {
   "cell_type": "code",
   "execution_count": 42,
   "metadata": {},
   "outputs": [
    {
     "data": {
      "image/png": "[encoded data removed]",
      "text/plain": [
       "<Figure size 432x288 with 1 Axes>"
      ]
     },
     "metadata": {
      "needs_background": "light"
     },
     "output_type": "display_data"
    }
   ],
   "source": [
    "losses[['recall','val_recall']].plot()"
   ]
  },
  {
   "cell_type": "code",
   "execution_count": 44,
   "metadata": {},
   "outputs": [
    {
     "data": {
      "text/plain": [
       "[]"
      ]
     },
     "execution_count": 44,
     "metadata": {},
     "output_type": "execute_result"
    }
   ],
   "source": []
  },
  {
   "cell_type": "code",
   "execution_count": null,
   "metadata": {},
   "outputs": [],
   "source": []
  }
 ],
 "metadata": {
  "kernelspec": {
   "display_name": "Python 3",
   "language": "python",
   "name": "python3"
  },
  "language_info": {
   "codemirror_mode": {
    "name": "ipython",
    "version": 3
   },
   "file_extension": ".py",
   "mimetype": "text/x-python",
   "name": "python",
   "nbconvert_exporter": "python",
   "pygments_lexer": "ipython3",
   "version": "3.7.7"
  }
 },
 "nbformat": 4,
 "nbformat_minor": 4
}
